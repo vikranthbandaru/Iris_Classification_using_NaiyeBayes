{
  "nbformat": 4,
  "nbformat_minor": 0,
  "metadata": {
    "colab": {
      "name": "Iris_Classification_using_NaiyeBayes.ipynb",
      "provenance": [],
      "collapsed_sections": [],
      "include_colab_link": true
    },
    "kernelspec": {
      "name": "python3",
      "display_name": "Python 3"
    },
    "language_info": {
      "name": "python"
    }
  },
  "cells": [
    {
      "cell_type": "markdown",
      "metadata": {
        "id": "view-in-github",
        "colab_type": "text"
      },
      "source": [
        "<a href=\"https://colab.research.google.com/github/vikranthbandaru/Iris_Classification_using_NaiyeBayes/blob/main/Iris_Classification_using_NaiyeBayes.ipynb\" target=\"_parent\"><img src=\"https://colab.research.google.com/assets/colab-badge.svg\" alt=\"Open In Colab\"/></a>"
      ]
    },
    {
      "cell_type": "code",
      "metadata": {
        "id": "w53kUpRxiL5U"
      },
      "source": [
        "#Importing the required libraries\n",
        "import numpy as np\n",
        "import pandas as pd\n",
        "import matplotlib.pyplot as plt\n",
        "import matplotlib.image as mpimg"
      ],
      "execution_count": null,
      "outputs": []
    },
    {
      "cell_type": "code",
      "metadata": {
        "id": "gcPgHF6oio6i"
      },
      "source": [
        "#Importing the dataset\n",
        "dataset = pd.read_csv('sample_data/iris_csv.csv')\n"
      ],
      "execution_count": null,
      "outputs": []
    },
    {
      "cell_type": "code",
      "metadata": {
        "id": "kXxZrZz4jIfA",
        "colab": {
          "base_uri": "https://localhost:8080/",
          "height": 206
        },
        "outputId": "68746668-67f0-4102-f8dd-e807795d6826"
      },
      "source": [
        "#Taking a look at the dataset\n",
        "dataset.head()"
      ],
      "execution_count": null,
      "outputs": [
        {
          "output_type": "execute_result",
          "data": {
            "text/html": [
              "<div>\n",
              "<style scoped>\n",
              "    .dataframe tbody tr th:only-of-type {\n",
              "        vertical-align: middle;\n",
              "    }\n",
              "\n",
              "    .dataframe tbody tr th {\n",
              "        vertical-align: top;\n",
              "    }\n",
              "\n",
              "    .dataframe thead th {\n",
              "        text-align: right;\n",
              "    }\n",
              "</style>\n",
              "<table border=\"1\" class=\"dataframe\">\n",
              "  <thead>\n",
              "    <tr style=\"text-align: right;\">\n",
              "      <th></th>\n",
              "      <th>sepallength</th>\n",
              "      <th>sepalwidth</th>\n",
              "      <th>petallength</th>\n",
              "      <th>petalwidth</th>\n",
              "      <th>class</th>\n",
              "    </tr>\n",
              "  </thead>\n",
              "  <tbody>\n",
              "    <tr>\n",
              "      <th>0</th>\n",
              "      <td>5.1</td>\n",
              "      <td>3.5</td>\n",
              "      <td>1.4</td>\n",
              "      <td>0.2</td>\n",
              "      <td>Iris-setosa</td>\n",
              "    </tr>\n",
              "    <tr>\n",
              "      <th>1</th>\n",
              "      <td>4.9</td>\n",
              "      <td>3.0</td>\n",
              "      <td>1.4</td>\n",
              "      <td>0.2</td>\n",
              "      <td>Iris-setosa</td>\n",
              "    </tr>\n",
              "    <tr>\n",
              "      <th>2</th>\n",
              "      <td>4.7</td>\n",
              "      <td>3.2</td>\n",
              "      <td>1.3</td>\n",
              "      <td>0.2</td>\n",
              "      <td>Iris-setosa</td>\n",
              "    </tr>\n",
              "    <tr>\n",
              "      <th>3</th>\n",
              "      <td>4.6</td>\n",
              "      <td>3.1</td>\n",
              "      <td>1.5</td>\n",
              "      <td>0.2</td>\n",
              "      <td>Iris-setosa</td>\n",
              "    </tr>\n",
              "    <tr>\n",
              "      <th>4</th>\n",
              "      <td>5.0</td>\n",
              "      <td>3.6</td>\n",
              "      <td>1.4</td>\n",
              "      <td>0.2</td>\n",
              "      <td>Iris-setosa</td>\n",
              "    </tr>\n",
              "  </tbody>\n",
              "</table>\n",
              "</div>"
            ],
            "text/plain": [
              "   sepallength  sepalwidth  petallength  petalwidth        class\n",
              "0          5.1         3.5          1.4         0.2  Iris-setosa\n",
              "1          4.9         3.0          1.4         0.2  Iris-setosa\n",
              "2          4.7         3.2          1.3         0.2  Iris-setosa\n",
              "3          4.6         3.1          1.5         0.2  Iris-setosa\n",
              "4          5.0         3.6          1.4         0.2  Iris-setosa"
            ]
          },
          "metadata": {},
          "execution_count": 7
        }
      ]
    },
    {
      "cell_type": "code",
      "metadata": {
        "id": "QnWb9ikhjcoz"
      },
      "source": [
        "#Splitting the dataset in independent and dependent variables\n",
        "X = dataset.iloc[:,:4].values\n",
        "y = dataset[\"class\"].values"
      ],
      "execution_count": null,
      "outputs": []
    },
    {
      "cell_type": "code",
      "metadata": {
        "id": "gFtm-aMgqH4R"
      },
      "source": [
        "# splitting the dataset into the Training set and Test set\n",
        "from sklearn.model_selection import train_test_split\n",
        "X_train, X_test, y_train, y_test = train_test_split(X,y, test_size = 0.20, random_state = 82)\n",
        "\n"
      ],
      "execution_count": null,
      "outputs": []
    },
    {
      "cell_type": "code",
      "metadata": {
        "id": "nYjuD47TtLog"
      },
      "source": [
        "#Feature Scaling to bring the variable in a single scale\n",
        "from sklearn.preprocessing import StandardScaler\n",
        "sc = StandardScaler()\n",
        "X_train = sc.fit_transform(X_train)\n",
        "X_test = sc.transform(X_test)\n"
      ],
      "execution_count": null,
      "outputs": []
    },
    {
      "cell_type": "code",
      "metadata": {
        "colab": {
          "base_uri": "https://localhost:8080/"
        },
        "id": "tJ04DGuouJ43",
        "outputId": "f880e798-a5bd-4946-a2b7-c11e3311800b"
      },
      "source": [
        "X_train"
      ],
      "execution_count": null,
      "outputs": [
        {
          "output_type": "execute_result",
          "data": {
            "text/plain": [
              "array([[-1.00251953,  1.03162171, -1.40606109, -1.20517074],\n",
              "       [ 2.14105929, -0.10410861,  1.62428406,  1.19627649],\n",
              "       [-0.88161265,  1.03162171, -1.34888477, -1.33858448],\n",
              "       [ 0.20654925, -0.10410861,  0.59511023,  0.79603529],\n",
              "       [ 0.56926988, -1.23983894,  0.70946288,  0.92944902],\n",
              "       [-1.24433328,  0.12303745, -1.23453212, -1.33858448],\n",
              "       [-0.76070577,  0.80447565, -1.34888477, -1.33858448],\n",
              "       [-0.15617138,  3.0759363 , -1.29170844, -1.07175701],\n",
              "       [-0.15617138, -0.55840074,  0.42358126,  0.12896661],\n",
              "       [-0.88161265,  0.80447565, -1.29170844, -1.33858448],\n",
              "       [ 0.32745613, -0.10410861,  0.65228656,  0.79603529],\n",
              "       [ 0.20654925, -0.78554681,  0.7666392 ,  0.52920782],\n",
              "       [ 0.69017676, -0.55840074,  1.05252082,  1.32969023],\n",
              "       [ 0.56926988, -0.55840074,  0.7666392 ,  0.39579408],\n",
              "       [-0.88161265,  0.57732958, -1.1773558 , -0.93834327],\n",
              "       [ 2.26196617,  1.71305991,  1.68146038,  1.32969023],\n",
              "       [-1.12342641, -1.23983894,  0.42358126,  0.66262155],\n",
              "       [-0.27707826, -0.78554681,  0.25205229,  0.12896661],\n",
              "       [ 0.81108364, -0.10410861,  1.16687347,  1.32969023],\n",
              "       [-0.15617138, -1.01269287, -0.14818197, -0.27127459],\n",
              "       [ 0.32745613, -0.10410861,  0.48075759,  0.26238035],\n",
              "       [-1.00251953, -2.37556926, -0.14818197, -0.27127459],\n",
              "       [ 2.26196617, -1.01269287,  1.79581303,  1.46310396],\n",
              "       [-1.24433328,  0.80447565, -1.23453212, -1.33858448],\n",
              "       [-0.03526451,  2.16735204, -1.46323741, -1.33858448],\n",
              "       [-1.00251953,  1.25876778, -1.34888477, -1.33858448],\n",
              "       [-1.48614704,  1.25876778, -1.57759006, -1.33858448],\n",
              "       [-0.63979889,  1.48591384, -1.29170844, -1.33858448],\n",
              "       [ 0.56926988,  0.57732958,  0.53793391,  0.52920782],\n",
              "       [ 0.69017676, -0.33125468,  0.30922862,  0.12896661],\n",
              "       [-1.60705392, -1.69413107, -1.40606109, -1.20517074],\n",
              "       [-0.27707826, -0.10410861,  0.42358126,  0.39579408],\n",
              "       [-0.76070577,  1.03162171, -1.29170844, -1.33858448],\n",
              "       [ 1.05289739,  0.12303745,  0.53793391,  0.39579408],\n",
              "       [ 1.89924554, -0.55840074,  1.33840244,  0.92944902],\n",
              "       [-0.15617138, -0.10410861,  0.25205229, -0.00444712],\n",
              "       [-1.48614704,  0.80447565, -1.34888477, -1.20517074],\n",
              "       [-1.24433328, -0.10410861, -1.34888477, -1.47199821],\n",
              "       [ 0.32745613, -0.55840074,  0.13769965,  0.12896661],\n",
              "       [ 1.05289739,  0.12303745,  1.05252082,  1.5965177 ],\n",
              "       [ 0.448363  ,  0.80447565,  0.93816817,  1.46310396],\n",
              "       [ 0.56926988, -1.69413107,  0.36640494,  0.12896661],\n",
              "       [ 1.5365249 , -0.10410861,  1.22404979,  1.19627649],\n",
              "       [-0.03526451, -0.78554681,  0.19487597, -0.27127459],\n",
              "       [-1.72796079, -0.10410861, -1.40606109, -1.33858448],\n",
              "       [-0.39798514, -1.466985  , -0.03382932, -0.27127459],\n",
              "       [-1.12342641, -0.10410861, -1.34888477, -1.33858448],\n",
              "       [ 0.69017676, -0.78554681,  0.88099185,  0.92944902],\n",
              "       [-0.15617138, -0.55840074,  0.19487597,  0.12896661],\n",
              "       [-0.39798514,  2.62164417, -1.34888477, -1.33858448],\n",
              "       [-0.76070577, -0.78554681,  0.08052332,  0.26238035],\n",
              "       [ 0.81108364, -0.55840074,  0.48075759,  0.39579408],\n",
              "       [-0.51889202,  1.94020597, -1.1773558 , -1.07175701],\n",
              "       [-0.15617138, -0.33125468,  0.25205229,  0.12896661],\n",
              "       [ 1.77833866, -0.33125468,  1.45275509,  0.79603529],\n",
              "       [ 2.26196617, -0.10410861,  1.33840244,  1.46310396],\n",
              "       [-0.39798514, -1.69413107,  0.13769965,  0.12896661],\n",
              "       [ 0.20654925, -0.33125468,  0.42358126,  0.39579408],\n",
              "       [ 0.56926988,  0.57732958,  1.28122612,  1.72993143],\n",
              "       [-0.88161265,  1.48591384, -1.29170844, -1.07175701],\n",
              "       [-1.24433328,  0.80447565, -1.06300315, -1.33858448],\n",
              "       [-1.00251953,  0.57732958, -1.34888477, -1.33858448],\n",
              "       [ 0.56926988, -0.78554681,  0.65228656,  0.79603529],\n",
              "       [ 0.93199052, -0.10410861,  0.36640494,  0.26238035],\n",
              "       [-0.27707826, -0.33125468, -0.09100565,  0.12896661],\n",
              "       [ 0.20654925,  0.80447565,  0.42358126,  0.52920782],\n",
              "       [-0.51889202,  1.48591384, -1.29170844, -1.33858448],\n",
              "       [ 1.65743178,  1.25876778,  1.33840244,  1.72993143],\n",
              "       [-1.72796079, -0.33125468, -1.34888477, -1.33858448],\n",
              "       [-0.03526451, -0.78554681,  0.7666392 ,  0.92944902],\n",
              "       [-0.88161265,  1.03162171, -1.34888477, -1.20517074],\n",
              "       [ 0.69017676,  0.35018352,  0.88099185,  1.46310396],\n",
              "       [ 0.56926988,  0.80447565,  1.05252082,  1.5965177 ],\n",
              "       [ 0.32745613, -0.55840074,  0.53793391, -0.00444712],\n",
              "       [ 0.448363  , -0.55840074,  0.59511023,  0.79603529],\n",
              "       [ 2.26196617, -0.55840074,  1.68146038,  1.06286276],\n",
              "       [-1.12342641,  0.12303745, -1.29170844, -1.47199821],\n",
              "       [ 0.69017676,  0.12303745,  0.9953445 ,  0.79603529],\n",
              "       [-0.27707826, -0.55840074,  0.65228656,  1.06286276],\n",
              "       [-0.39798514, -1.01269287,  0.36640494, -0.00444712],\n",
              "       [-0.51889202, -0.10410861,  0.42358126,  0.39579408],\n",
              "       [-1.24433328, -0.10410861, -1.34888477, -1.20517074],\n",
              "       [ 0.81108364, -0.10410861,  0.9953445 ,  0.79603529],\n",
              "       [ 1.65743178, -0.10410861,  1.16687347,  0.52920782],\n",
              "       [ 0.20654925, -1.92127713,  0.13769965, -0.27127459],\n",
              "       [ 0.81108364, -0.10410861,  0.82381553,  1.06286276],\n",
              "       [-1.12342641, -1.466985  , -0.26253462, -0.27127459],\n",
              "       [-0.88161265, -1.23983894, -0.43406359, -0.13786086],\n",
              "       [ 1.29471115,  0.35018352,  1.10969715,  1.46310396],\n",
              "       [ 1.05289739, -1.23983894,  1.16687347,  0.79603529],\n",
              "       [ 0.08564237,  0.35018352,  0.59511023,  0.79603529],\n",
              "       [ 0.448363  , -1.92127713,  0.42358126,  0.39579408],\n",
              "       [-0.51889202,  1.94020597, -1.40606109, -1.07175701],\n",
              "       [ 1.05289739, -0.10410861,  0.82381553,  1.46310396],\n",
              "       [-1.48614704,  0.12303745, -1.29170844, -1.33858448],\n",
              "       [-1.00251953,  1.03162171, -1.23453212, -0.80492954],\n",
              "       [-0.88161265,  1.71305991, -1.23453212, -1.33858448],\n",
              "       [-0.03526451, -0.78554681,  0.7666392 ,  0.92944902],\n",
              "       [ 0.69017676,  0.35018352,  0.42358126,  0.39579408],\n",
              "       [-0.39798514,  1.03162171, -1.40606109, -1.33858448],\n",
              "       [-0.88161265,  1.71305991, -1.29170844, -1.20517074],\n",
              "       [ 1.29471115,  0.12303745,  0.7666392 ,  1.46310396],\n",
              "       [-1.12342641,  0.12303745, -1.29170844, -1.47199821],\n",
              "       [-0.27707826, -0.10410861,  0.19487597,  0.12896661],\n",
              "       [ 1.29471115,  0.12303745,  0.65228656,  0.39579408],\n",
              "       [ 0.56926988, -0.33125468,  1.05252082,  0.79603529],\n",
              "       [ 1.05289739,  0.12303745,  0.36640494,  0.26238035],\n",
              "       [-0.27707826, -1.23983894,  0.08052332, -0.13786086],\n",
              "       [-1.00251953, -0.10410861, -1.23453212, -1.33858448],\n",
              "       [-0.15617138, -1.23983894,  0.70946288,  1.06286276],\n",
              "       [-0.03526451, -1.01269287,  0.13769965, -0.00444712],\n",
              "       [-1.36524016,  0.35018352, -1.23453212, -1.33858448],\n",
              "       [ 0.448363  , -0.33125468,  0.30922862,  0.12896661],\n",
              "       [-1.72796079,  0.35018352, -1.40606109, -1.33858448],\n",
              "       [-0.39798514, -1.466985  ,  0.023347  , -0.13786086],\n",
              "       [ 0.81108364,  0.35018352,  0.7666392 ,  1.06286276],\n",
              "       [-0.51889202,  0.80447565, -1.29170844, -1.07175701],\n",
              "       [-1.00251953, -1.69413107, -0.26253462, -0.27127459],\n",
              "       [ 0.08564237, -0.10410861,  0.7666392 ,  0.79603529],\n",
              "       [ 2.50377993,  1.71305991,  1.50993141,  1.06286276]])"
            ]
          },
          "metadata": {},
          "execution_count": 11
        }
      ]
    },
    {
      "cell_type": "code",
      "metadata": {
        "colab": {
          "base_uri": "https://localhost:8080/"
        },
        "id": "sFVxO-CKuJ7a",
        "outputId": "87cefbba-906a-44c8-8c80-4574ecf2d09c"
      },
      "source": [
        "# Fitting Naive Bayes Classification to the Training set with linear kernel\n",
        "from sklearn.naive_bayes import GaussianNB\n",
        "nvclassifier = GaussianNB()\n",
        "nvclassifier.fit(X_train, y_train)\n",
        " "
      ],
      "execution_count": null,
      "outputs": [
        {
          "output_type": "execute_result",
          "data": {
            "text/plain": [
              "GaussianNB(priors=None, var_smoothing=1e-09)"
            ]
          },
          "metadata": {},
          "execution_count": 12
        }
      ]
    },
    {
      "cell_type": "code",
      "metadata": {
        "colab": {
          "base_uri": "https://localhost:8080/"
        },
        "id": "gr_IyZ0BuJ-v",
        "outputId": "e21b5395-36fc-4ab3-ca9b-73e4ab20fa62"
      },
      "source": [
        "# Predicting the Test set results\n",
        "y_pred = nvclassifier.predict(X_test)\n",
        "print(y_pred)"
      ],
      "execution_count": null,
      "outputs": [
        {
          "output_type": "stream",
          "name": "stdout",
          "text": [
            "['Iris-virginica' 'Iris-virginica' 'Iris-setosa' 'Iris-setosa'\n",
            " 'Iris-setosa' 'Iris-virginica' 'Iris-versicolor' 'Iris-versicolor'\n",
            " 'Iris-versicolor' 'Iris-versicolor' 'Iris-versicolor' 'Iris-virginica'\n",
            " 'Iris-setosa' 'Iris-setosa' 'Iris-setosa' 'Iris-setosa' 'Iris-virginica'\n",
            " 'Iris-versicolor' 'Iris-setosa' 'Iris-versicolor' 'Iris-setosa'\n",
            " 'Iris-virginica' 'Iris-setosa' 'Iris-virginica' 'Iris-virginica'\n",
            " 'Iris-versicolor' 'Iris-virginica' 'Iris-setosa' 'Iris-virginica'\n",
            " 'Iris-versicolor']\n"
          ]
        }
      ]
    },
    {
      "cell_type": "code",
      "metadata": {
        "colab": {
          "base_uri": "https://localhost:8080/"
        },
        "id": "IZUx6SiKxLQW",
        "outputId": "813a3503-2f34-4b2c-fb98-20ef52428762"
      },
      "source": [
        "#Lets see the actual and predicted value side by side\n",
        "y_compare = np.vstack((y_test,y_pred)).T\n",
        "#actual value on the left side and predicted value on the right hand side\n",
        "y_compare[:5,:]"
      ],
      "execution_count": null,
      "outputs": [
        {
          "output_type": "execute_result",
          "data": {
            "text/plain": [
              "array([['Iris-virginica', 'Iris-virginica'],\n",
              "       ['Iris-virginica', 'Iris-virginica'],\n",
              "       ['Iris-setosa', 'Iris-setosa'],\n",
              "       ['Iris-setosa', 'Iris-setosa'],\n",
              "       ['Iris-setosa', 'Iris-setosa']], dtype=object)"
            ]
          },
          "metadata": {},
          "execution_count": 14
        }
      ]
    },
    {
      "cell_type": "code",
      "metadata": {
        "colab": {
          "base_uri": "https://localhost:8080/"
        },
        "id": "AF7-80GgyTYe",
        "outputId": "25619311-b63f-4f9c-e690-46c6c1095c95"
      },
      "source": [
        "#making the confusion matrix\n",
        "from sklearn.metrics import confusion_matrix\n",
        "cm = confusion_matrix(y_test, y_pred)\n",
        "print(cm)\n"
      ],
      "execution_count": null,
      "outputs": [
        {
          "output_type": "stream",
          "name": "stdout",
          "text": [
            "[[11  0  0]\n",
            " [ 0  8  1]\n",
            " [ 0  1  9]]\n"
          ]
        }
      ]
    },
    {
      "cell_type": "code",
      "metadata": {
        "id": "tZHptYtJzOSM",
        "colab": {
          "base_uri": "https://localhost:8080/"
        },
        "outputId": "0d4f795d-c4b8-453a-86af-d0b8b25f6741"
      },
      "source": [
        "#finding accuracy from the confusion matrix\n",
        "a = cm.shape\n",
        "corrPred = 0\n",
        "falsePred = 0\n",
        "\n",
        "for row in range(a[0]):\n",
        "    for c in range(a[1]):\n",
        "        if row == c:\n",
        "            corrPred += cm[row,c]\n",
        "        else:\n",
        "            falsePred += cm[row,c]\n",
        "print('Corect predictions: ', corrPred)\n",
        "print('False predictions:',falsePred)\n",
        "print ('\\n\\Accruacy of the Naive Bayes classification is:', corrPred/(cm.sum()))                   \n"
      ],
      "execution_count": null,
      "outputs": [
        {
          "output_type": "stream",
          "name": "stdout",
          "text": [
            "Corect predictions:  28\n",
            "False predictions: 2\n",
            "\n",
            "\\Accruacy of the Naive Bayes classification is: 0.9333333333333333\n"
          ]
        }
      ]
    }
  ]
}